{
 "cells": [
  {
   "cell_type": "code",
   "execution_count": 1,
   "metadata": {},
   "outputs": [
    {
     "name": "stdout",
     "output_type": "stream",
     "text": [
      "\n",
      "\n",
      "\u001b[1m> Entering new AgentExecutor chain...\u001b[0m\n",
      "\u001b[32;1m\u001b[1;3m\n",
      "Invoking: `StockMarketSymbolSearchTool` with `{'query': 'Cloudflare stock'}`\n",
      "\n",
      "\n",
      "\u001b[0m\u001b[36;1m\u001b[1;3mThe stock is up 8.3% since the results and currently trades at $97.92. Is now the time to buy Cloudflare? Access our full analysis of the earnings results here, it's free. Stock analysis for Cloudflare Inc (NET:New York) including stock price, stock chart, company news, key statistics, fundamentals and company profile. At Cloudflare, Inc., we promise to treat your data with respect and will not share your information with any third party. You can unsubscribe to any of the investor alerts you are subscribed to by visiting the 'unsubscribe' section below. If you experience any issues with this process, please contact us for further assistance. Get the latest information on Cloudflare, Inc. (NET), a cloud services provider that delivers security and performance solutions. See the stock price, financial performance, analyst forecast, news, and more. Get the latest information on Cloudflare Inc (NET), a software company that offers security and web performance solutions. See its stock price, fair value, news, financials, valuation, and more.\u001b[0m\u001b[32;1m\u001b[1;3mThe stock market symbol for Cloudflare is NET. Cloudflare's stock is currently trading at $97.92 and has seen an increase of 8.3%. Cloudflare is a cloud services provider that delivers security and performance solutions.\n",
      "\n",
      "To analyze if Cloudflare is a potential good investment, we need to consider various factors such as the company's financial performance, growth prospects, competitive landscape, and market trends. It's important to conduct a thorough analysis before making any investment decisions.\n",
      "\n",
      "If you would like a more detailed analysis or have any specific questions about Cloudflare's stock, feel free to ask!\u001b[0m\n",
      "\n",
      "\u001b[1m> Finished chain.\u001b[0m\n"
     ]
    },
    {
     "data": {
      "text/plain": [
       "{'input': \"Give me information on Cloudflare's stock and help me analyze if it's a potential good investment. Also tell me what symbol does the stock have.\",\n",
       " 'output': \"The stock market symbol for Cloudflare is NET. Cloudflare's stock is currently trading at $97.92 and has seen an increase of 8.3%. Cloudflare is a cloud services provider that delivers security and performance solutions.\\n\\nTo analyze if Cloudflare is a potential good investment, we need to consider various factors such as the company's financial performance, growth prospects, competitive landscape, and market trends. It's important to conduct a thorough analysis before making any investment decisions.\\n\\nIf you would like a more detailed analysis or have any specific questions about Cloudflare's stock, feel free to ask!\"}"
      ]
     },
     "execution_count": 1,
     "metadata": {},
     "output_type": "execute_result"
    }
   ],
   "source": [
    "from typing import Any, Type\n",
    "from langchain.chat_models import ChatOpenAI\n",
    "from langchain.tools import BaseTool\n",
    "from langchain.agents import initialize_agent, AgentType\n",
    "from langchain.utilities import DuckDuckGoSearchAPIWrapper\n",
    "from pydantic import BaseModel, Field\n",
    "\n",
    "llm = ChatOpenAI(temperature=.1)\n",
    "\n",
    "class StockMarketSymbolSearchToolArgsSchema(BaseModel):\n",
    "    query: str = Field(description='The query you will search for.')\n",
    "\n",
    "class StockMarketSymbolSearchTool(BaseTool):\n",
    "    name = 'StockMarketSymbolSearchTool'\n",
    "    description = '''\n",
    "        Use this tool to find the stock market symbol for a company.\n",
    "        It takes a query as an argument.\n",
    "        Example query: Stock Market Symbol for Apple Company\n",
    "    '''\n",
    "\n",
    "    args_schema: Type[StockMarketSymbolSearchToolArgsSchema] = StockMarketSymbolSearchToolArgsSchema\n",
    "\n",
    "    def _run(self, query):\n",
    "        ddg = DuckDuckGoSearchAPIWrapper()\n",
    "        return ddg.run(query)\n",
    "\n",
    "agent = initialize_agent(\n",
    "    llm=llm, \n",
    "    verbose=True,\n",
    "    agent=AgentType.OPENAI_FUNCTIONS,\n",
    "    handle_parsing_errors=True,\n",
    "    tools=[\n",
    "      StockMarketSymbolSearchTool()\n",
    "    ]\n",
    ")\n",
    "\n",
    "prompt = \"Give me information on Cloudflare's stock and help me analyze if it's a potential good investment. Also tell me what symbol does the stock have.\"\n",
    "\n",
    "agent.invoke(prompt)"
   ]
  },
  {
   "cell_type": "code",
   "execution_count": null,
   "metadata": {},
   "outputs": [],
   "source": []
  }
 ],
 "metadata": {
  "kernelspec": {
   "display_name": "env",
   "language": "python",
   "name": "python3"
  },
  "language_info": {
   "codemirror_mode": {
    "name": "ipython",
    "version": 3
   },
   "file_extension": ".py",
   "mimetype": "text/x-python",
   "name": "python",
   "nbconvert_exporter": "python",
   "pygments_lexer": "ipython3",
   "version": "3.11.7"
  }
 },
 "nbformat": 4,
 "nbformat_minor": 2
}
