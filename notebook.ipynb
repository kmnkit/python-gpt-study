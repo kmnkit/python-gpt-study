{
 "cells": [
  {
   "cell_type": "code",
   "execution_count": 54,
   "metadata": {},
   "outputs": [],
   "source": [
    "from langchain.chat_models import ChatOpenAI \n",
    "from langchain.prompts import ChatPromptTemplate \n",
    "from langchain.callbacks import StreamingStdOutCallbackHandler\n",
    "chat = ChatOpenAI(model_name=\"gpt-3.5-turbo\", temperature=.3, streaming=True, callbacks=[StreamingStdOutCallbackHandler()])\n",
    "\n",
    "poem_template = ChatPromptTemplate.from_messages([\n",
    "    (\"system\", \"너는 시를 쓰는 사람이야. 내가 프로그래밍 언어를 제시하면 그 프로그래밍 언어에 대한 시를 써 줘.\"),\n",
    "    (\"human\", \"{language}\"),\n",
    "])"
   ]
  },
  {
   "cell_type": "code",
   "execution_count": 55,
   "metadata": {},
   "outputs": [],
   "source": [
    "poem_chain = poem_template | chat"
   ]
  },
  {
   "cell_type": "code",
   "execution_count": 56,
   "metadata": {},
   "outputs": [],
   "source": [
    "explain_prompt = ChatPromptTemplate.from_messages([\n",
    "    (\"system\", \"시를 받아서 시의 내용을 설명해 줘.\"),\n",
    "    (\"human\", \"{poem}\")\n",
    "])\n",
    "\n",
    "explain_chain = explain_prompt | chat"
   ]
  },
  {
   "cell_type": "code",
   "execution_count": 57,
   "metadata": {},
   "outputs": [],
   "source": [
    "final_chain = {\"poem\": poem_chain} | explain_chain"
   ]
  },
  {
   "cell_type": "code",
   "execution_count": 58,
   "metadata": {},
   "outputs": [
    {
     "name": "stdout",
     "output_type": "stream",
     "text": [
      "자바야 자바\n",
      "\n",
      "객체지향의 빛나는 별\n",
      "\n",
      "컴파일하고 실행해\n",
      "\n",
      "세상을 바꾸는 힘을 담아이 시는 자바 프로그래밍 언어에 대한 열정과 사랑을 담고 있습니다. \"자바야 자바\"라는 구절은 자바에 대한 애정을 나타내며, \"객체지향의 빛나는 별\"은 자바가 객체지향 프로그래밍을 지원하고 빛을 발하는 언어라는 것을 의미합니다. \"컴파일하고 실행해\"는 코드를 컴파일하고 실행하여 실제로 동작하는 프로그램을 만들어내는 과정을 강조하며, \"세상을 바꾸는 힘을 담아\"는 자바로 만들어지는 프로그램이 현실 세계를 변화시키는 힘을 담고 있다는 의미를 담고 있습니다. 이 시는 자바 프로그래밍의 매력과 가능성을 표현하고 있습니다."
     ]
    },
    {
     "data": {
      "text/plain": [
       "AIMessageChunk(content='이 시는 자바 프로그래밍 언어에 대한 열정과 사랑을 담고 있습니다. \"자바야 자바\"라는 구절은 자바에 대한 애정을 나타내며, \"객체지향의 빛나는 별\"은 자바가 객체지향 프로그래밍을 지원하고 빛을 발하는 언어라는 것을 의미합니다. \"컴파일하고 실행해\"는 코드를 컴파일하고 실행하여 실제로 동작하는 프로그램을 만들어내는 과정을 강조하며, \"세상을 바꾸는 힘을 담아\"는 자바로 만들어지는 프로그램이 현실 세계를 변화시키는 힘을 담고 있다는 의미를 담고 있습니다. 이 시는 자바 프로그래밍의 매력과 가능성을 표현하고 있습니다.')"
      ]
     },
     "execution_count": 58,
     "metadata": {},
     "output_type": "execute_result"
    }
   ],
   "source": [
    "final_chain.invoke({\n",
    "    \"language\": \"Java\",\n",
    "})"
   ]
  },
  {
   "cell_type": "code",
   "execution_count": null,
   "metadata": {},
   "outputs": [],
   "source": []
  }
 ],
 "metadata": {
  "kernelspec": {
   "display_name": "env",
   "language": "python",
   "name": "python3"
  },
  "language_info": {
   "codemirror_mode": {
    "name": "ipython",
    "version": 3
   },
   "file_extension": ".py",
   "mimetype": "text/x-python",
   "name": "python",
   "nbconvert_exporter": "python",
   "pygments_lexer": "ipython3",
   "version": "3.11.6"
  }
 },
 "nbformat": 4,
 "nbformat_minor": 2
}
